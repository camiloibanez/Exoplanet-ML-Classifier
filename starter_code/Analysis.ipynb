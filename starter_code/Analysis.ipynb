{
 "cells": [
  {
   "cell_type": "markdown",
   "metadata": {},
   "source": [
    "## Import Dependencies"
   ]
  },
  {
   "cell_type": "code",
   "execution_count": 26,
   "metadata": {},
   "outputs": [],
   "source": [
    "import pandas as pd\n",
    "import matplotlib.pyplot as plt\n",
    "import numpy as np\n",
    "import math"
   ]
  },
  {
   "cell_type": "markdown",
   "metadata": {},
   "source": [
    "### Import data"
   ]
  },
  {
   "cell_type": "code",
   "execution_count": 2,
   "metadata": {},
   "outputs": [
    {
     "data": {
      "text/html": [
       "<div>\n",
       "<style scoped>\n",
       "    .dataframe tbody tr th:only-of-type {\n",
       "        vertical-align: middle;\n",
       "    }\n",
       "\n",
       "    .dataframe tbody tr th {\n",
       "        vertical-align: top;\n",
       "    }\n",
       "\n",
       "    .dataframe thead th {\n",
       "        text-align: right;\n",
       "    }\n",
       "</style>\n",
       "<table border=\"1\" class=\"dataframe\">\n",
       "  <thead>\n",
       "    <tr style=\"text-align: right;\">\n",
       "      <th></th>\n",
       "      <th>koi_disposition</th>\n",
       "      <th>koi_fpflag_nt</th>\n",
       "      <th>koi_fpflag_ss</th>\n",
       "      <th>koi_fpflag_co</th>\n",
       "      <th>koi_fpflag_ec</th>\n",
       "      <th>koi_period</th>\n",
       "      <th>koi_period_err1</th>\n",
       "      <th>koi_period_err2</th>\n",
       "      <th>koi_time0bk</th>\n",
       "      <th>koi_time0bk_err1</th>\n",
       "      <th>...</th>\n",
       "      <th>koi_steff_err2</th>\n",
       "      <th>koi_slogg</th>\n",
       "      <th>koi_slogg_err1</th>\n",
       "      <th>koi_slogg_err2</th>\n",
       "      <th>koi_srad</th>\n",
       "      <th>koi_srad_err1</th>\n",
       "      <th>koi_srad_err2</th>\n",
       "      <th>ra</th>\n",
       "      <th>dec</th>\n",
       "      <th>koi_kepmag</th>\n",
       "    </tr>\n",
       "  </thead>\n",
       "  <tbody>\n",
       "    <tr>\n",
       "      <td>0</td>\n",
       "      <td>CONFIRMED</td>\n",
       "      <td>0</td>\n",
       "      <td>0</td>\n",
       "      <td>0</td>\n",
       "      <td>0</td>\n",
       "      <td>54.418383</td>\n",
       "      <td>2.479000e-04</td>\n",
       "      <td>-2.479000e-04</td>\n",
       "      <td>162.513840</td>\n",
       "      <td>0.003520</td>\n",
       "      <td>...</td>\n",
       "      <td>-81</td>\n",
       "      <td>4.467</td>\n",
       "      <td>0.064</td>\n",
       "      <td>-0.096</td>\n",
       "      <td>0.927</td>\n",
       "      <td>0.105</td>\n",
       "      <td>-0.061</td>\n",
       "      <td>291.93423</td>\n",
       "      <td>48.141651</td>\n",
       "      <td>15.347</td>\n",
       "    </tr>\n",
       "    <tr>\n",
       "      <td>1</td>\n",
       "      <td>FALSE POSITIVE</td>\n",
       "      <td>0</td>\n",
       "      <td>1</td>\n",
       "      <td>0</td>\n",
       "      <td>0</td>\n",
       "      <td>19.899140</td>\n",
       "      <td>1.490000e-05</td>\n",
       "      <td>-1.490000e-05</td>\n",
       "      <td>175.850252</td>\n",
       "      <td>0.000581</td>\n",
       "      <td>...</td>\n",
       "      <td>-176</td>\n",
       "      <td>4.544</td>\n",
       "      <td>0.044</td>\n",
       "      <td>-0.176</td>\n",
       "      <td>0.868</td>\n",
       "      <td>0.233</td>\n",
       "      <td>-0.078</td>\n",
       "      <td>297.00482</td>\n",
       "      <td>48.134129</td>\n",
       "      <td>15.436</td>\n",
       "    </tr>\n",
       "    <tr>\n",
       "      <td>2</td>\n",
       "      <td>FALSE POSITIVE</td>\n",
       "      <td>0</td>\n",
       "      <td>1</td>\n",
       "      <td>0</td>\n",
       "      <td>0</td>\n",
       "      <td>1.736952</td>\n",
       "      <td>2.630000e-07</td>\n",
       "      <td>-2.630000e-07</td>\n",
       "      <td>170.307565</td>\n",
       "      <td>0.000115</td>\n",
       "      <td>...</td>\n",
       "      <td>-174</td>\n",
       "      <td>4.564</td>\n",
       "      <td>0.053</td>\n",
       "      <td>-0.168</td>\n",
       "      <td>0.791</td>\n",
       "      <td>0.201</td>\n",
       "      <td>-0.067</td>\n",
       "      <td>285.53461</td>\n",
       "      <td>48.285210</td>\n",
       "      <td>15.597</td>\n",
       "    </tr>\n",
       "    <tr>\n",
       "      <td>3</td>\n",
       "      <td>CONFIRMED</td>\n",
       "      <td>0</td>\n",
       "      <td>0</td>\n",
       "      <td>0</td>\n",
       "      <td>0</td>\n",
       "      <td>2.525592</td>\n",
       "      <td>3.760000e-06</td>\n",
       "      <td>-3.760000e-06</td>\n",
       "      <td>171.595550</td>\n",
       "      <td>0.001130</td>\n",
       "      <td>...</td>\n",
       "      <td>-211</td>\n",
       "      <td>4.438</td>\n",
       "      <td>0.070</td>\n",
       "      <td>-0.210</td>\n",
       "      <td>1.046</td>\n",
       "      <td>0.334</td>\n",
       "      <td>-0.133</td>\n",
       "      <td>288.75488</td>\n",
       "      <td>48.226200</td>\n",
       "      <td>15.509</td>\n",
       "    </tr>\n",
       "    <tr>\n",
       "      <td>4</td>\n",
       "      <td>CONFIRMED</td>\n",
       "      <td>0</td>\n",
       "      <td>0</td>\n",
       "      <td>0</td>\n",
       "      <td>0</td>\n",
       "      <td>4.134435</td>\n",
       "      <td>1.050000e-05</td>\n",
       "      <td>-1.050000e-05</td>\n",
       "      <td>172.979370</td>\n",
       "      <td>0.001900</td>\n",
       "      <td>...</td>\n",
       "      <td>-232</td>\n",
       "      <td>4.486</td>\n",
       "      <td>0.054</td>\n",
       "      <td>-0.229</td>\n",
       "      <td>0.972</td>\n",
       "      <td>0.315</td>\n",
       "      <td>-0.105</td>\n",
       "      <td>296.28613</td>\n",
       "      <td>48.224670</td>\n",
       "      <td>15.714</td>\n",
       "    </tr>\n",
       "  </tbody>\n",
       "</table>\n",
       "<p>5 rows × 41 columns</p>\n",
       "</div>"
      ],
      "text/plain": [
       "  koi_disposition  koi_fpflag_nt  koi_fpflag_ss  koi_fpflag_co  koi_fpflag_ec  \\\n",
       "0       CONFIRMED              0              0              0              0   \n",
       "1  FALSE POSITIVE              0              1              0              0   \n",
       "2  FALSE POSITIVE              0              1              0              0   \n",
       "3       CONFIRMED              0              0              0              0   \n",
       "4       CONFIRMED              0              0              0              0   \n",
       "\n",
       "   koi_period  koi_period_err1  koi_period_err2  koi_time0bk  \\\n",
       "0   54.418383     2.479000e-04    -2.479000e-04   162.513840   \n",
       "1   19.899140     1.490000e-05    -1.490000e-05   175.850252   \n",
       "2    1.736952     2.630000e-07    -2.630000e-07   170.307565   \n",
       "3    2.525592     3.760000e-06    -3.760000e-06   171.595550   \n",
       "4    4.134435     1.050000e-05    -1.050000e-05   172.979370   \n",
       "\n",
       "   koi_time0bk_err1  ...  koi_steff_err2  koi_slogg  koi_slogg_err1  \\\n",
       "0          0.003520  ...             -81      4.467           0.064   \n",
       "1          0.000581  ...            -176      4.544           0.044   \n",
       "2          0.000115  ...            -174      4.564           0.053   \n",
       "3          0.001130  ...            -211      4.438           0.070   \n",
       "4          0.001900  ...            -232      4.486           0.054   \n",
       "\n",
       "   koi_slogg_err2  koi_srad  koi_srad_err1  koi_srad_err2         ra  \\\n",
       "0          -0.096     0.927          0.105         -0.061  291.93423   \n",
       "1          -0.176     0.868          0.233         -0.078  297.00482   \n",
       "2          -0.168     0.791          0.201         -0.067  285.53461   \n",
       "3          -0.210     1.046          0.334         -0.133  288.75488   \n",
       "4          -0.229     0.972          0.315         -0.105  296.28613   \n",
       "\n",
       "         dec  koi_kepmag  \n",
       "0  48.141651      15.347  \n",
       "1  48.134129      15.436  \n",
       "2  48.285210      15.597  \n",
       "3  48.226200      15.509  \n",
       "4  48.224670      15.714  \n",
       "\n",
       "[5 rows x 41 columns]"
      ]
     },
     "execution_count": 2,
     "metadata": {},
     "output_type": "execute_result"
    }
   ],
   "source": [
    "df = pd.read_csv(\"exoplanet_data.csv\")\n",
    "# Drop the null columns where all values are null\n",
    "df = df.dropna(axis='columns', how='all')\n",
    "# Drop the null rows\n",
    "df = df.dropna()\n",
    "df.head()"
   ]
  },
  {
   "cell_type": "code",
   "execution_count": 4,
   "metadata": {},
   "outputs": [
    {
     "data": {
      "text/plain": [
       "Index(['koi_disposition', 'koi_fpflag_nt', 'koi_fpflag_ss', 'koi_fpflag_co',\n",
       "       'koi_fpflag_ec', 'koi_period', 'koi_period_err1', 'koi_period_err2',\n",
       "       'koi_time0bk', 'koi_time0bk_err1', 'koi_time0bk_err2', 'koi_impact',\n",
       "       'koi_impact_err1', 'koi_impact_err2', 'koi_duration',\n",
       "       'koi_duration_err1', 'koi_duration_err2', 'koi_depth', 'koi_depth_err1',\n",
       "       'koi_depth_err2', 'koi_prad', 'koi_prad_err1', 'koi_prad_err2',\n",
       "       'koi_teq', 'koi_insol', 'koi_insol_err1', 'koi_insol_err2',\n",
       "       'koi_model_snr', 'koi_tce_plnt_num', 'koi_steff', 'koi_steff_err1',\n",
       "       'koi_steff_err2', 'koi_slogg', 'koi_slogg_err1', 'koi_slogg_err2',\n",
       "       'koi_srad', 'koi_srad_err1', 'koi_srad_err2', 'ra', 'dec',\n",
       "       'koi_kepmag'],\n",
       "      dtype='object')"
      ]
     },
     "execution_count": 4,
     "metadata": {},
     "output_type": "execute_result"
    }
   ],
   "source": [
    "df.columns"
   ]
  },
  {
   "cell_type": "code",
   "execution_count": 60,
   "metadata": {},
   "outputs": [
    {
     "data": {
      "text/plain": [
       "count    6991.000000\n",
       "mean      292.082406\n",
       "std         4.762908\n",
       "min       279.856080\n",
       "25%       288.704730\n",
       "50%       292.314760\n",
       "75%       295.888550\n",
       "max       301.720760\n",
       "Name: ra, dtype: float64"
      ]
     },
     "execution_count": 60,
     "metadata": {},
     "output_type": "execute_result"
    }
   ],
   "source": [
    "df['ra'].describe()"
   ]
  },
  {
   "cell_type": "markdown",
   "metadata": {},
   "source": [
    "### Display disposition count"
   ]
  },
  {
   "cell_type": "code",
   "execution_count": 3,
   "metadata": {},
   "outputs": [
    {
     "data": {
      "text/html": [
       "<div>\n",
       "<style scoped>\n",
       "    .dataframe tbody tr th:only-of-type {\n",
       "        vertical-align: middle;\n",
       "    }\n",
       "\n",
       "    .dataframe tbody tr th {\n",
       "        vertical-align: top;\n",
       "    }\n",
       "\n",
       "    .dataframe thead th {\n",
       "        text-align: right;\n",
       "    }\n",
       "</style>\n",
       "<table border=\"1\" class=\"dataframe\">\n",
       "  <thead>\n",
       "    <tr style=\"text-align: right;\">\n",
       "      <th></th>\n",
       "      <th>koi_fpflag_nt</th>\n",
       "      <th>koi_fpflag_ss</th>\n",
       "      <th>koi_fpflag_co</th>\n",
       "      <th>koi_fpflag_ec</th>\n",
       "      <th>koi_period</th>\n",
       "      <th>koi_period_err1</th>\n",
       "      <th>koi_period_err2</th>\n",
       "      <th>koi_time0bk</th>\n",
       "      <th>koi_time0bk_err1</th>\n",
       "      <th>koi_time0bk_err2</th>\n",
       "      <th>...</th>\n",
       "      <th>koi_steff_err2</th>\n",
       "      <th>koi_slogg</th>\n",
       "      <th>koi_slogg_err1</th>\n",
       "      <th>koi_slogg_err2</th>\n",
       "      <th>koi_srad</th>\n",
       "      <th>koi_srad_err1</th>\n",
       "      <th>koi_srad_err2</th>\n",
       "      <th>ra</th>\n",
       "      <th>dec</th>\n",
       "      <th>koi_kepmag</th>\n",
       "    </tr>\n",
       "    <tr>\n",
       "      <th>koi_disposition</th>\n",
       "      <th></th>\n",
       "      <th></th>\n",
       "      <th></th>\n",
       "      <th></th>\n",
       "      <th></th>\n",
       "      <th></th>\n",
       "      <th></th>\n",
       "      <th></th>\n",
       "      <th></th>\n",
       "      <th></th>\n",
       "      <th></th>\n",
       "      <th></th>\n",
       "      <th></th>\n",
       "      <th></th>\n",
       "      <th></th>\n",
       "      <th></th>\n",
       "      <th></th>\n",
       "      <th></th>\n",
       "      <th></th>\n",
       "      <th></th>\n",
       "      <th></th>\n",
       "    </tr>\n",
       "  </thead>\n",
       "  <tbody>\n",
       "    <tr>\n",
       "      <td>CANDIDATE</td>\n",
       "      <td>1687</td>\n",
       "      <td>1687</td>\n",
       "      <td>1687</td>\n",
       "      <td>1687</td>\n",
       "      <td>1687</td>\n",
       "      <td>1687</td>\n",
       "      <td>1687</td>\n",
       "      <td>1687</td>\n",
       "      <td>1687</td>\n",
       "      <td>1687</td>\n",
       "      <td>...</td>\n",
       "      <td>1687</td>\n",
       "      <td>1687</td>\n",
       "      <td>1687</td>\n",
       "      <td>1687</td>\n",
       "      <td>1687</td>\n",
       "      <td>1687</td>\n",
       "      <td>1687</td>\n",
       "      <td>1687</td>\n",
       "      <td>1687</td>\n",
       "      <td>1687</td>\n",
       "    </tr>\n",
       "    <tr>\n",
       "      <td>CONFIRMED</td>\n",
       "      <td>1800</td>\n",
       "      <td>1800</td>\n",
       "      <td>1800</td>\n",
       "      <td>1800</td>\n",
       "      <td>1800</td>\n",
       "      <td>1800</td>\n",
       "      <td>1800</td>\n",
       "      <td>1800</td>\n",
       "      <td>1800</td>\n",
       "      <td>1800</td>\n",
       "      <td>...</td>\n",
       "      <td>1800</td>\n",
       "      <td>1800</td>\n",
       "      <td>1800</td>\n",
       "      <td>1800</td>\n",
       "      <td>1800</td>\n",
       "      <td>1800</td>\n",
       "      <td>1800</td>\n",
       "      <td>1800</td>\n",
       "      <td>1800</td>\n",
       "      <td>1800</td>\n",
       "    </tr>\n",
       "    <tr>\n",
       "      <td>FALSE POSITIVE</td>\n",
       "      <td>3504</td>\n",
       "      <td>3504</td>\n",
       "      <td>3504</td>\n",
       "      <td>3504</td>\n",
       "      <td>3504</td>\n",
       "      <td>3504</td>\n",
       "      <td>3504</td>\n",
       "      <td>3504</td>\n",
       "      <td>3504</td>\n",
       "      <td>3504</td>\n",
       "      <td>...</td>\n",
       "      <td>3504</td>\n",
       "      <td>3504</td>\n",
       "      <td>3504</td>\n",
       "      <td>3504</td>\n",
       "      <td>3504</td>\n",
       "      <td>3504</td>\n",
       "      <td>3504</td>\n",
       "      <td>3504</td>\n",
       "      <td>3504</td>\n",
       "      <td>3504</td>\n",
       "    </tr>\n",
       "  </tbody>\n",
       "</table>\n",
       "<p>3 rows × 40 columns</p>\n",
       "</div>"
      ],
      "text/plain": [
       "                 koi_fpflag_nt  koi_fpflag_ss  koi_fpflag_co  koi_fpflag_ec  \\\n",
       "koi_disposition                                                               \n",
       "CANDIDATE                 1687           1687           1687           1687   \n",
       "CONFIRMED                 1800           1800           1800           1800   \n",
       "FALSE POSITIVE            3504           3504           3504           3504   \n",
       "\n",
       "                 koi_period  koi_period_err1  koi_period_err2  koi_time0bk  \\\n",
       "koi_disposition                                                              \n",
       "CANDIDATE              1687             1687             1687         1687   \n",
       "CONFIRMED              1800             1800             1800         1800   \n",
       "FALSE POSITIVE         3504             3504             3504         3504   \n",
       "\n",
       "                 koi_time0bk_err1  koi_time0bk_err2  ...  koi_steff_err2  \\\n",
       "koi_disposition                                      ...                   \n",
       "CANDIDATE                    1687              1687  ...            1687   \n",
       "CONFIRMED                    1800              1800  ...            1800   \n",
       "FALSE POSITIVE               3504              3504  ...            3504   \n",
       "\n",
       "                 koi_slogg  koi_slogg_err1  koi_slogg_err2  koi_srad  \\\n",
       "koi_disposition                                                        \n",
       "CANDIDATE             1687            1687            1687      1687   \n",
       "CONFIRMED             1800            1800            1800      1800   \n",
       "FALSE POSITIVE        3504            3504            3504      3504   \n",
       "\n",
       "                 koi_srad_err1  koi_srad_err2    ra   dec  koi_kepmag  \n",
       "koi_disposition                                                        \n",
       "CANDIDATE                 1687           1687  1687  1687        1687  \n",
       "CONFIRMED                 1800           1800  1800  1800        1800  \n",
       "FALSE POSITIVE            3504           3504  3504  3504        3504  \n",
       "\n",
       "[3 rows x 40 columns]"
      ]
     },
     "execution_count": 3,
     "metadata": {},
     "output_type": "execute_result"
    }
   ],
   "source": [
    "classified_df = df.groupby(\"koi_disposition\").count()\n",
    "classified_df.head()"
   ]
  },
  {
   "cell_type": "code",
   "execution_count": 11,
   "metadata": {},
   "outputs": [
    {
     "data": {
      "image/png": "[encoded data removed]",
      "text/plain": [
       "<Figure size 432x288 with 1 Axes>"
      ]
     },
     "metadata": {
      "needs_background": "light"
     },
     "output_type": "display_data"
    }
   ],
   "source": [
    "# Plot disposition count\n",
    "classified_df.plot(kind=\"bar\", y=\"koi_period\", title=\"Classification Distribution\")\n",
    "plt.xlabel(\"koi_disposition\")\n",
    "plt.ylabel(\"Number of koi\")\n",
    "\n",
    "plt.show()"
   ]
  },
  {
   "cell_type": "markdown",
   "metadata": {},
   "source": [
    "### Plot koi period distribution"
   ]
  },
  {
   "cell_type": "code",
   "execution_count": 41,
   "metadata": {},
   "outputs": [
    {
     "data": {
      "image/png": "[encoded data removed]",
      "text/plain": [
       "<Figure size 432x288 with 1 Axes>"
      ]
     },
     "metadata": {
      "needs_background": "light"
     },
     "output_type": "display_data"
    }
   ],
   "source": [
    "min_koi_period = math.floor(min(df['koi_period']))\n",
    "max_koi_period = math.ceil(max(df['koi_period'])) + 5\n",
    "w = math.ceil((max_koi_period - min_koi_period)/20)\n",
    "\n",
    "bin_list = list(range(min_koi_period, max_koi_period, w))\n",
    "plt.hist(x=df['koi_period'], bins=bin_list)\n",
    "plt.title('Koi Period Distribution')\n",
    "plt.ylabel(\"Count\")\n",
    "plt.xlabel(\"Koi Period\")\n",
    "\n",
    "plt.show()"
   ]
  },
  {
   "cell_type": "markdown",
   "metadata": {},
   "source": [
    "### Plot koi time0bk"
   ]
  },
  {
   "cell_type": "code",
   "execution_count": 42,
   "metadata": {},
   "outputs": [
    {
     "data": {
      "image/png": "[encoded data removed]",
      "text/plain": [
       "<Figure size 432x288 with 1 Axes>"
      ]
     },
     "metadata": {
      "needs_background": "light"
     },
     "output_type": "display_data"
    }
   ],
   "source": [
    "min_koi_time0bk = math.floor(min(df['koi_time0bk']))\n",
    "max_koi_time0bk = math.ceil(max(df['koi_time0bk'])) + 5\n",
    "w = math.ceil((max_koi_time0bk - min_koi_time0bk)/20)\n",
    "\n",
    "bin_list = list(range(min_koi_time0bk, max_koi_time0bk, w))\n",
    "plt.hist(x=df['koi_time0bk'], bins=bin_list)\n",
    "plt.title('Koi time0bk Distribution')\n",
    "plt.ylabel(\"Count\")\n",
    "plt.xlabel(\"Koi time0bk\")\n",
    "\n",
    "plt.show()"
   ]
  },
  {
   "cell_type": "markdown",
   "metadata": {},
   "source": [
    "### Plot koi Impact"
   ]
  },
  {
   "cell_type": "code",
   "execution_count": 47,
   "metadata": {},
   "outputs": [
    {
     "data": {
      "image/png": "[encoded data removed]",
      "text/plain": [
       "<Figure size 432x288 with 1 Axes>"
      ]
     },
     "metadata": {
      "needs_background": "light"
     },
     "output_type": "display_data"
    }
   ],
   "source": [
    "min_koi_impact = math.floor(min(df['koi_impact']))\n",
    "max_koi_impact = math.ceil(max(df['koi_impact'])) + 5\n",
    "w = math.ceil((max_koi_impact - min_koi_impact)/20)\n",
    "\n",
    "bin_list = list(range(min_koi_impact, max_koi_impact, w))\n",
    "plt.hist(x=df['koi_impact'], bins=bin_list)\n",
    "plt.title('Koi Impact Distribution')\n",
    "plt.ylabel(\"Count\")\n",
    "plt.xlabel(\"Koi Impact\")\n",
    "\n",
    "plt.show()"
   ]
  },
  {
   "cell_type": "markdown",
   "metadata": {},
   "source": [
    "### Plot koi duration"
   ]
  },
  {
   "cell_type": "code",
   "execution_count": 48,
   "metadata": {},
   "outputs": [
    {
     "data": {
      "image/png": "[encoded data removed]",
      "text/plain": [
       "<Figure size 432x288 with 1 Axes>"
      ]
     },
     "metadata": {
      "needs_background": "light"
     },
     "output_type": "display_data"
    }
   ],
   "source": [
    "min_koi_duration = math.floor(min(df['koi_duration']))\n",
    "max_koi_duration = math.ceil(max(df['koi_duration'])) + 5\n",
    "w = math.ceil((max_koi_duration - min_koi_duration)/20)\n",
    "\n",
    "bin_list = list(range(min_koi_duration, max_koi_duration, w))\n",
    "plt.hist(x=df['koi_duration'], bins=bin_list)\n",
    "plt.title('Koi Duration Distribution')\n",
    "plt.ylabel(\"Count\")\n",
    "plt.xlabel(\"Koi Duration\")\n",
    "\n",
    "plt.show()"
   ]
  },
  {
   "cell_type": "markdown",
   "metadata": {},
   "source": [
    "### Plot koi Depth"
   ]
  },
  {
   "cell_type": "code",
   "execution_count": 49,
   "metadata": {},
   "outputs": [
    {
     "data": {
      "image/png": "[encoded data removed]",
      "text/plain": [
       "<Figure size 432x288 with 1 Axes>"
      ]
     },
     "metadata": {
      "needs_background": "light"
     },
     "output_type": "display_data"
    }
   ],
   "source": [
    "min_koi_depth = math.floor(min(df['koi_depth']))\n",
    "max_koi_depth = math.ceil(max(df['koi_depth'])) + 5\n",
    "w = math.ceil((max_koi_depth - min_koi_depth)/20)\n",
    "\n",
    "bin_list = list(range(min_koi_depth, max_koi_depth, w))\n",
    "plt.hist(x=df['koi_depth'], bins=bin_list)\n",
    "plt.title('Koi Depth Distribution')\n",
    "plt.ylabel(\"Count\")\n",
    "plt.xlabel(\"Koi Depth\")\n",
    "\n",
    "plt.show()"
   ]
  },
  {
   "cell_type": "markdown",
   "metadata": {},
   "source": [
    "### Plot koi prad"
   ]
  },
  {
   "cell_type": "code",
   "execution_count": 52,
   "metadata": {},
   "outputs": [
    {
     "data": {
      "image/png": "[encoded data removed]",
      "text/plain": [
       "<Figure size 432x288 with 1 Axes>"
      ]
     },
     "metadata": {
      "needs_background": "light"
     },
     "output_type": "display_data"
    }
   ],
   "source": [
    "min_koi_prad = math.floor(min(df['koi_prad']))\n",
    "max_koi_prad = math.ceil(max(df['koi_prad'])) + 5\n",
    "w = math.ceil((max_koi_prad - min_koi_prad)/20)\n",
    "\n",
    "bin_list = list(range(min_koi_prad, max_koi_prad, w))\n",
    "plt.hist(x=df['koi_prad'], bins=bin_list)\n",
    "plt.title('Koi Planetary Radius Distribution')\n",
    "plt.ylabel(\"Count\")\n",
    "plt.xlabel(\"Koi Planetary Radius\")\n",
    "\n",
    "plt.show()"
   ]
  },
  {
   "cell_type": "markdown",
   "metadata": {},
   "source": [
    "### Plot koi teq"
   ]
  },
  {
   "cell_type": "code",
   "execution_count": 54,
   "metadata": {},
   "outputs": [
    {
     "data": {
      "image/png": "[encoded data removed]",
      "text/plain": [
       "<Figure size 432x288 with 1 Axes>"
      ]
     },
     "metadata": {
      "needs_background": "light"
     },
     "output_type": "display_data"
    }
   ],
   "source": [
    "min_koi_teq = math.floor(min(df['koi_teq']))\n",
    "max_koi_teq = math.ceil(max(df['koi_teq'])) + 5\n",
    "w = math.ceil((max_koi_teq - min_koi_teq)/20)\n",
    "\n",
    "bin_list = list(range(min_koi_teq, max_koi_teq, w))\n",
    "plt.hist(x=df['koi_teq'], bins=bin_list)\n",
    "plt.title('Koi teq Distribution')\n",
    "plt.ylabel(\"Count\")\n",
    "plt.xlabel(\"Koi teq\")\n",
    "\n",
    "plt.show()"
   ]
  },
  {
   "cell_type": "markdown",
   "metadata": {},
   "source": [
    "### Plot koi insol"
   ]
  },
  {
   "cell_type": "code",
   "execution_count": 55,
   "metadata": {},
   "outputs": [
    {
     "data": {
      "image/png": "[encoded data removed]",
      "text/plain": [
       "<Figure size 432x288 with 1 Axes>"
      ]
     },
     "metadata": {
      "needs_background": "light"
     },
     "output_type": "display_data"
    }
   ],
   "source": [
    "min_koi_insol = math.floor(min(df['koi_insol']))\n",
    "max_koi_insol = math.ceil(max(df['koi_insol'])) + 5\n",
    "w = math.ceil((max_koi_insol - min_koi_insol)/20)\n",
    "\n",
    "bin_list = list(range(min_koi_insol, max_koi_insol, w))\n",
    "plt.hist(x=df['koi_insol'], bins=bin_list)\n",
    "plt.title('Koi insol Distribution')\n",
    "plt.ylabel(\"Count\")\n",
    "plt.xlabel(\"Koi insol\")\n",
    "\n",
    "plt.show()"
   ]
  },
  {
   "cell_type": "markdown",
   "metadata": {},
   "source": [
    "### Plot koi model_snr"
   ]
  },
  {
   "cell_type": "code",
   "execution_count": 56,
   "metadata": {},
   "outputs": [
    {
     "data": {
      "image/png": "[encoded data removed]",
      "text/plain": [
       "<Figure size 432x288 with 1 Axes>"
      ]
     },
     "metadata": {
      "needs_background": "light"
     },
     "output_type": "display_data"
    }
   ],
   "source": [
    "min_koi_model_snr = math.floor(min(df['koi_model_snr']))\n",
    "max_koi_model_snr = math.ceil(max(df['koi_model_snr'])) + 5\n",
    "w = math.ceil((max_koi_model_snr - min_koi_model_snr)/20)\n",
    "\n",
    "bin_list = list(range(min_koi_model_snr, max_koi_model_snr, w))\n",
    "plt.hist(x=df['koi_model_snr'], bins=bin_list)\n",
    "plt.title('Koi model_snr Distribution')\n",
    "plt.ylabel(\"Count\")\n",
    "plt.xlabel(\"Koi model_snr\")\n",
    "\n",
    "plt.show()"
   ]
  },
  {
   "cell_type": "markdown",
   "metadata": {},
   "source": [
    "### Plot koi steff"
   ]
  },
  {
   "cell_type": "code",
   "execution_count": 57,
   "metadata": {},
   "outputs": [
    {
     "data": {
      "image/png": "[encoded data removed]",
      "text/plain": [
       "<Figure size 432x288 with 1 Axes>"
      ]
     },
     "metadata": {
      "needs_background": "light"
     },
     "output_type": "display_data"
    }
   ],
   "source": [
    "min_koi_steff = math.floor(min(df['koi_steff']))\n",
    "max_koi_steff = math.ceil(max(df['koi_steff'])) + 5\n",
    "w = math.ceil((max_koi_steff - min_koi_steff)/20)\n",
    "\n",
    "bin_list = list(range(min_koi_steff, max_koi_steff, w))\n",
    "plt.hist(x=df['koi_steff'], bins=bin_list)\n",
    "plt.title('Koi steff Distribution')\n",
    "plt.ylabel(\"Count\")\n",
    "plt.xlabel(\"Koi steff\")\n",
    "\n",
    "plt.show()"
   ]
  },
  {
   "cell_type": "markdown",
   "metadata": {},
   "source": [
    "### Plot koi slogg"
   ]
  },
  {
   "cell_type": "code",
   "execution_count": 58,
   "metadata": {},
   "outputs": [
    {
     "data": {
      "image/png": "[encoded data removed]",
      "text/plain": [
       "<Figure size 432x288 with 1 Axes>"
      ]
     },
     "metadata": {
      "needs_background": "light"
     },
     "output_type": "display_data"
    }
   ],
   "source": [
    "min_koi_slogg = math.floor(min(df['koi_slogg']))\n",
    "max_koi_slogg = math.ceil(max(df['koi_slogg'])) + 5\n",
    "w = math.ceil((max_koi_slogg - min_koi_slogg)/20)\n",
    "\n",
    "bin_list = list(range(min_koi_slogg, max_koi_slogg, w))\n",
    "plt.hist(x=df['koi_slogg'], bins=bin_list)\n",
    "plt.title('Koi slogg Distribution')\n",
    "plt.ylabel(\"Count\")\n",
    "plt.xlabel(\"Koi slogg\")\n",
    "\n",
    "plt.show()"
   ]
  },
  {
   "cell_type": "markdown",
   "metadata": {},
   "source": [
    "### Plot koi srad"
   ]
  },
  {
   "cell_type": "code",
   "execution_count": 59,
   "metadata": {},
   "outputs": [
    {
     "data": {
      "image/png": "[encoded data removed]",
      "text/plain": [
       "<Figure size 432x288 with 1 Axes>"
      ]
     },
     "metadata": {
      "needs_background": "light"
     },
     "output_type": "display_data"
    }
   ],
   "source": [
    "min_koi_srad = math.floor(min(df['koi_srad']))\n",
    "max_koi_srad = math.ceil(max(df['koi_srad'])) + 5\n",
    "w = math.ceil((max_koi_srad - min_koi_srad)/20)\n",
    "\n",
    "bin_list = list(range(min_koi_srad, max_koi_srad, w))\n",
    "plt.hist(x=df['koi_srad'], bins=bin_list)\n",
    "plt.title('Koi srad Distribution')\n",
    "plt.ylabel(\"Count\")\n",
    "plt.xlabel(\"Koi srad\")\n",
    "\n",
    "plt.show()"
   ]
  },
  {
   "cell_type": "code",
   "execution_count": null,
   "metadata": {},
   "outputs": [],
   "source": [
    "min_koi_srad = math.floor(min(df['koi_srad']))\n",
    "max_koi_srad = math.ceil(max(df['koi_srad'])) + 5\n",
    "w = math.ceil((max_koi_srad - min_koi_srad)/20)\n",
    "\n",
    "bin_list = list(range(min_koi_srad, max_koi_srad, w))\n",
    "plt.hist(x=df['koi_srad'], bins=bin_list)\n",
    "plt.title('Koi srad Distribution')\n",
    "plt.ylabel(\"Count\")\n",
    "plt.xlabel(\"Koi srad\")\n",
    "\n",
    "plt.show()"
   ]
  }
 ],
 "metadata": {
  "kernelspec": {
   "display_name": "Python 3",
   "language": "python",
   "name": "python3"
  },
  "language_info": {
   "codemirror_mode": {
    "name": "ipython",
    "version": 3
   },
   "file_extension": ".py",
   "mimetype": "text/x-python",
   "name": "python",
   "nbconvert_exporter": "python",
   "pygments_lexer": "ipython3",
   "version": "3.7.4"
  }
 },
 "nbformat": 4,
 "nbformat_minor": 2
}
