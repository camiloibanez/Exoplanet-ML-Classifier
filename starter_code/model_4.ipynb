{
 "cells": [
  {
   "cell_type": "code",
   "execution_count": null,
   "metadata": {},
   "outputs": [],
   "source": [
    "# Update sklearn to prevent version mismatches\n",
    "!pip install sklearn --upgrade"
   ]
  },
  {
   "cell_type": "code",
   "execution_count": null,
   "metadata": {},
   "outputs": [],
   "source": [
    "# install joblib. This will be used to save your model. \n",
    "# Restart your kernel after installing \n",
    "!pip install joblib"
   ]
  },
  {
   "cell_type": "code",
   "execution_count": null,
   "metadata": {},
   "outputs": [],
   "source": [
    "import pandas as pd"
   ]
  },
  {
   "cell_type": "markdown",
   "metadata": {},
   "source": [
    "# Read the CSV and Perform Basic Data Cleaning"
   ]
  },
  {
   "cell_type": "code",
   "execution_count": null,
   "metadata": {},
   "outputs": [],
   "source": [
    "df = pd.read_csv(\"exoplanet_data.csv\")\n",
    "# Drop the null columns where all values are null\n",
    "df = df.dropna(axis='columns', how='all')\n",
    "# Drop the null rows\n",
    "df = df.dropna()\n",
    "df.head()"
   ]
  },
  {
   "cell_type": "markdown",
   "metadata": {},
   "source": [
    "# Select your features (columns)"
   ]
  },
  {
   "cell_type": "code",
   "execution_count": null,
   "metadata": {},
   "outputs": [],
   "source": [
    "# Set features. This will also be used as your x values.\n",
    "selected_features = df[['koi_fpflag_nt', 'koi_fpflag_ss', 'koi_fpflag_co',\n",
    "       'koi_fpflag_ec', 'koi_period', 'koi_time0bk', 'koi_impact',\n",
    "       'koi_duration', 'koi_depth', 'koi_prad', 'koi_teq', 'koi_insol',\n",
    "       'koi_model_snr', 'koi_tce_plnt_num', 'koi_steff', 'koi_slogg',\n",
    "       'koi_srad', 'ra', 'dec', 'koi_kepmag']]"
   ]
  },
  {
   "cell_type": "code",
   "execution_count": null,
   "metadata": {},
   "outputs": [],
   "source": [
    "selected_features"
   ]
  },
  {
   "cell_type": "code",
   "execution_count": 7,
   "metadata": {},
   "outputs": [],
   "source": [
    "y = df[[\"koi_disposition\"]]"
   ]
  },
  {
   "cell_type": "code",
   "execution_count": 8,
   "metadata": {},
   "outputs": [
    {
     "data": {
      "text/plain": [
       "(6991,)"
      ]
     },
     "execution_count": 8,
     "metadata": {},
     "output_type": "execute_result"
    }
   ],
   "source": [
    "y = y.values.reshape(-1,)\n",
    "y.shape"
   ]
  },
  {
   "cell_type": "markdown",
   "metadata": {},
   "source": [
    "# Create a Train Test Split\n",
    "\n",
    "Use `koi_disposition` for the y values"
   ]
  },
  {
   "cell_type": "code",
   "execution_count": 9,
   "metadata": {},
   "outputs": [],
   "source": [
    "from sklearn.model_selection import train_test_split\n",
    "\n",
    "X_train, X_test, y_train, y_test = train_test_split(selected_features, y, test_size=0.20)"
   ]
  },
  {
   "cell_type": "code",
   "execution_count": 10,
   "metadata": {},
   "outputs": [
    {
     "data": {
      "text/html": [
       "<div>\n",
       "<style scoped>\n",
       "    .dataframe tbody tr th:only-of-type {\n",
       "        vertical-align: middle;\n",
       "    }\n",
       "\n",
       "    .dataframe tbody tr th {\n",
       "        vertical-align: top;\n",
       "    }\n",
       "\n",
       "    .dataframe thead th {\n",
       "        text-align: right;\n",
       "    }\n",
       "</style>\n",
       "<table border=\"1\" class=\"dataframe\">\n",
       "  <thead>\n",
       "    <tr style=\"text-align: right;\">\n",
       "      <th></th>\n",
       "      <th>koi_fpflag_nt</th>\n",
       "      <th>koi_fpflag_ss</th>\n",
       "      <th>koi_fpflag_co</th>\n",
       "      <th>koi_fpflag_ec</th>\n",
       "      <th>koi_period</th>\n",
       "      <th>koi_time0bk</th>\n",
       "      <th>koi_impact</th>\n",
       "      <th>koi_duration</th>\n",
       "      <th>koi_depth</th>\n",
       "      <th>koi_prad</th>\n",
       "      <th>koi_teq</th>\n",
       "      <th>koi_insol</th>\n",
       "      <th>koi_model_snr</th>\n",
       "      <th>koi_tce_plnt_num</th>\n",
       "      <th>koi_steff</th>\n",
       "      <th>koi_slogg</th>\n",
       "      <th>koi_srad</th>\n",
       "      <th>ra</th>\n",
       "      <th>dec</th>\n",
       "      <th>koi_kepmag</th>\n",
       "    </tr>\n",
       "  </thead>\n",
       "  <tbody>\n",
       "    <tr>\n",
       "      <td>1322</td>\n",
       "      <td>0</td>\n",
       "      <td>1</td>\n",
       "      <td>1</td>\n",
       "      <td>1</td>\n",
       "      <td>5.776759</td>\n",
       "      <td>143.096160</td>\n",
       "      <td>1.272</td>\n",
       "      <td>6.78900</td>\n",
       "      <td>3522.5</td>\n",
       "      <td>32.77</td>\n",
       "      <td>954</td>\n",
       "      <td>195.79</td>\n",
       "      <td>141.4</td>\n",
       "      <td>1</td>\n",
       "      <td>5544</td>\n",
       "      <td>4.435</td>\n",
       "      <td>0.875</td>\n",
       "      <td>298.80206</td>\n",
       "      <td>44.420349</td>\n",
       "      <td>14.572</td>\n",
       "    </tr>\n",
       "    <tr>\n",
       "      <td>718</td>\n",
       "      <td>0</td>\n",
       "      <td>0</td>\n",
       "      <td>0</td>\n",
       "      <td>0</td>\n",
       "      <td>13.351512</td>\n",
       "      <td>363.086742</td>\n",
       "      <td>0.573</td>\n",
       "      <td>3.60450</td>\n",
       "      <td>3308.8</td>\n",
       "      <td>4.44</td>\n",
       "      <td>585</td>\n",
       "      <td>27.77</td>\n",
       "      <td>107.9</td>\n",
       "      <td>1</td>\n",
       "      <td>4843</td>\n",
       "      <td>4.562</td>\n",
       "      <td>0.754</td>\n",
       "      <td>290.11270</td>\n",
       "      <td>48.577782</td>\n",
       "      <td>15.825</td>\n",
       "    </tr>\n",
       "    <tr>\n",
       "      <td>6128</td>\n",
       "      <td>0</td>\n",
       "      <td>1</td>\n",
       "      <td>0</td>\n",
       "      <td>0</td>\n",
       "      <td>1.827559</td>\n",
       "      <td>132.265540</td>\n",
       "      <td>0.093</td>\n",
       "      <td>4.72808</td>\n",
       "      <td>314680.0</td>\n",
       "      <td>118.28</td>\n",
       "      <td>2178</td>\n",
       "      <td>5331.71</td>\n",
       "      <td>920.8</td>\n",
       "      <td>1</td>\n",
       "      <td>5977</td>\n",
       "      <td>3.854</td>\n",
       "      <td>2.077</td>\n",
       "      <td>301.30350</td>\n",
       "      <td>44.999660</td>\n",
       "      <td>13.661</td>\n",
       "    </tr>\n",
       "    <tr>\n",
       "      <td>3126</td>\n",
       "      <td>0</td>\n",
       "      <td>0</td>\n",
       "      <td>0</td>\n",
       "      <td>0</td>\n",
       "      <td>3.708586</td>\n",
       "      <td>134.473080</td>\n",
       "      <td>0.115</td>\n",
       "      <td>1.94000</td>\n",
       "      <td>305.4</td>\n",
       "      <td>1.33</td>\n",
       "      <td>995</td>\n",
       "      <td>231.84</td>\n",
       "      <td>11.3</td>\n",
       "      <td>1</td>\n",
       "      <td>5420</td>\n",
       "      <td>4.596</td>\n",
       "      <td>0.771</td>\n",
       "      <td>291.64294</td>\n",
       "      <td>37.632408</td>\n",
       "      <td>15.947</td>\n",
       "    </tr>\n",
       "    <tr>\n",
       "      <td>5676</td>\n",
       "      <td>0</td>\n",
       "      <td>1</td>\n",
       "      <td>0</td>\n",
       "      <td>0</td>\n",
       "      <td>63.681929</td>\n",
       "      <td>167.547736</td>\n",
       "      <td>0.583</td>\n",
       "      <td>12.60470</td>\n",
       "      <td>341720.0</td>\n",
       "      <td>71.45</td>\n",
       "      <td>486</td>\n",
       "      <td>13.15</td>\n",
       "      <td>963.5</td>\n",
       "      <td>1</td>\n",
       "      <td>5979</td>\n",
       "      <td>4.386</td>\n",
       "      <td>1.054</td>\n",
       "      <td>288.53741</td>\n",
       "      <td>39.834080</td>\n",
       "      <td>14.995</td>\n",
       "    </tr>\n",
       "  </tbody>\n",
       "</table>\n",
       "</div>"
      ],
      "text/plain": [
       "      koi_fpflag_nt  koi_fpflag_ss  koi_fpflag_co  koi_fpflag_ec  koi_period  \\\n",
       "1322              0              1              1              1    5.776759   \n",
       "718               0              0              0              0   13.351512   \n",
       "6128              0              1              0              0    1.827559   \n",
       "3126              0              0              0              0    3.708586   \n",
       "5676              0              1              0              0   63.681929   \n",
       "\n",
       "      koi_time0bk  koi_impact  koi_duration  koi_depth  koi_prad  koi_teq  \\\n",
       "1322   143.096160       1.272       6.78900     3522.5     32.77      954   \n",
       "718    363.086742       0.573       3.60450     3308.8      4.44      585   \n",
       "6128   132.265540       0.093       4.72808   314680.0    118.28     2178   \n",
       "3126   134.473080       0.115       1.94000      305.4      1.33      995   \n",
       "5676   167.547736       0.583      12.60470   341720.0     71.45      486   \n",
       "\n",
       "      koi_insol  koi_model_snr  koi_tce_plnt_num  koi_steff  koi_slogg  \\\n",
       "1322     195.79          141.4                 1       5544      4.435   \n",
       "718       27.77          107.9                 1       4843      4.562   \n",
       "6128    5331.71          920.8                 1       5977      3.854   \n",
       "3126     231.84           11.3                 1       5420      4.596   \n",
       "5676      13.15          963.5                 1       5979      4.386   \n",
       "\n",
       "      koi_srad         ra        dec  koi_kepmag  \n",
       "1322     0.875  298.80206  44.420349      14.572  \n",
       "718      0.754  290.11270  48.577782      15.825  \n",
       "6128     2.077  301.30350  44.999660      13.661  \n",
       "3126     0.771  291.64294  37.632408      15.947  \n",
       "5676     1.054  288.53741  39.834080      14.995  "
      ]
     },
     "execution_count": 10,
     "metadata": {},
     "output_type": "execute_result"
    }
   ],
   "source": [
    "X_train.head()"
   ]
  },
  {
   "cell_type": "markdown",
   "metadata": {},
   "source": [
    "# Pre-processing\n",
    "\n",
    "Scale the data using the MinMaxScaler and perform some feature selection"
   ]
  },
  {
   "cell_type": "code",
   "execution_count": 11,
   "metadata": {},
   "outputs": [],
   "source": [
    "# Scale your data\n",
    "from sklearn.preprocessing import MinMaxScaler\n",
    "\n",
    "X_scaler = MinMaxScaler().fit(X_train)\n",
    "\n",
    "X_train_scaled = X_scaler.transform(X_train)\n",
    "X_test_scaled = X_scaler.transform(X_test)"
   ]
  },
  {
   "cell_type": "code",
   "execution_count": null,
   "metadata": {},
   "outputs": [],
   "source": [
    "from sklearn.preprocessing import LabelEncoder\n",
    "from tensorflow.keras.utils import to_categorical\n",
    "\n",
    "label_encoder = LabelEncoder()\n",
    "label_encoder.fit(y_train)\n",
    "encoded_y_train = label_encoder.transform(y_train)\n",
    "encoded_y_test = label_encoder.transform(y_test)\n",
    "\n",
    "y_train_categorical = to_categorical(encoded_y_train)\n",
    "y_test_categorical = to_categorical(encoded_y_test)"
   ]
  },
  {
   "cell_type": "markdown",
   "metadata": {},
   "source": [
    "# Train the Model\n",
    "\n"
   ]
  },
  {
   "cell_type": "code",
   "execution_count": null,
   "metadata": {},
   "outputs": [],
   "source": [
    "from tensorflow.keras.models import Sequential\n",
    "from tensorflow.keras.layers import Dense\n",
    "\n",
    "model = Sequential()\n",
    "\n",
    "model.add(Dense(units=100, activation='relu', input_dim=20))\n",
    "model.add(Dense(units=3, activation='softmax'))"
   ]
  },
  {
   "cell_type": "code",
   "execution_count": null,
   "metadata": {},
   "outputs": [],
   "source": [
    "model.compile(optimizer='adam',\n",
    "             loss='categorical_crossentropy',\n",
    "             metrics=['accuracy'])"
   ]
  },
  {
   "cell_type": "code",
   "execution_count": null,
   "metadata": {},
   "outputs": [],
   "source": [
    "model.fit(X_train_scaled,\n",
    "         y_train_categorical,\n",
    "         epochs=100,\n",
    "         shuffle=True,\n",
    "         verbose=2)"
   ]
  },
  {
   "cell_type": "code",
   "execution_count": null,
   "metadata": {},
   "outputs": [],
   "source": [
    "print(f\"Training Data Score: {model.evaluate(X_train_scaled, y_train_categorical)}\")\n",
    "print(f\"Testing Data Score: {model.evaluate(X_test_scaled, y_test_categorical)}\")"
   ]
  },
  {
   "cell_type": "markdown",
   "metadata": {},
   "source": [
    "# Hyperparameter Tuning\n",
    "\n",
    "Use `GridSearchCV` to tune the model's parameters"
   ]
  },
  {
   "cell_type": "code",
   "execution_count": null,
   "metadata": {},
   "outputs": [],
   "source": [
    "list = [25, 50, 75, 100]\n",
    "\n",
    "for x in list:\n",
    "    model2 = Sequential()\n",
    "\n",
    "    model2.add(Dense(units=x, activation='relu', input_dim=20))\n",
    "    model2.add(Dense(units=3, activation='softmax'))\n",
    "    \n",
    "    model2.compile(optimizer='adam',\n",
    "             loss='categorical_crossentropy',\n",
    "             metrics=['accuracy'])\n",
    "    \n",
    "    model2.fit(X_train_scaled,\n",
    "         y_train_categorical,\n",
    "         epochs=100,\n",
    "         shuffle=True,\n",
    "         verbose=0)\n",
    "    \n",
    "    print(f\"Units: {x}, testing score:{model2.evaluate(X_test_scaled, y_test_categorical)}\")"
   ]
  },
  {
   "cell_type": "markdown",
   "metadata": {},
   "source": [
    "# Save the Model"
   ]
  },
  {
   "cell_type": "code",
   "execution_count": null,
   "metadata": {},
   "outputs": [],
   "source": [
    "# save your model by updating \"your_name\" with your name\n",
    "# and \"your_model\" with your model variable\n",
    "# be sure to turn this in to BCS\n",
    "# if joblib fails to import, try running the command to install in terminal/git-bash\n",
    "import joblib\n",
    "filename = 'your_name.sav'\n",
    "joblib.dump(your_model, filename)"
   ]
  }
 ],
 "metadata": {
  "kernel_info": {
   "name": "dev"
  },
  "kernelspec": {
   "display_name": "Python 3",
   "language": "python",
   "name": "python3"
  },
  "language_info": {
   "codemirror_mode": {
    "name": "ipython",
    "version": 3
   },
   "file_extension": ".py",
   "mimetype": "text/x-python",
   "name": "python",
   "nbconvert_exporter": "python",
   "pygments_lexer": "ipython3",
   "version": "3.7.4"
  },
  "nteract": {
   "version": "0.12.3"
  }
 },
 "nbformat": 4,
 "nbformat_minor": 2
}
